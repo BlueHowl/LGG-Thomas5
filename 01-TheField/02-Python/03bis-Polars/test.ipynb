{
 "cells": [
  {
   "cell_type": "code",
   "execution_count": 1,
   "id": "8275e80b",
   "metadata": {},
   "outputs": [],
   "source": [
    "import polars as pl"
   ]
  },
  {
   "cell_type": "code",
   "execution_count": 38,
   "id": "6185bca8",
   "metadata": {},
   "outputs": [
    {
     "data": {
      "text/html": [
       "<div><style>\n",
       ".dataframe > thead > tr,\n",
       ".dataframe > tbody > tr {\n",
       "  text-align: right;\n",
       "  white-space: pre-wrap;\n",
       "}\n",
       "</style>\n",
       "<small>shape: (10, 11)</small><table border=\"1\" class=\"dataframe\"><thead><tr><th>step</th><th>type</th><th>amount</th><th>nameOrig</th><th>oldbalanceOrg</th><th>newbalanceOrig</th><th>nameDest</th><th>oldbalanceDest</th><th>newbalanceDest</th><th>isFraud</th><th>isFlaggedFraud</th></tr><tr><td>i64</td><td>str</td><td>f64</td><td>str</td><td>f64</td><td>f64</td><td>str</td><td>f64</td><td>f64</td><td>i64</td><td>i64</td></tr></thead><tbody><tr><td>1</td><td>&quot;PAYMENT&quot;</td><td>9839.64</td><td>&quot;C1231006815&quot;</td><td>170136.0</td><td>160296.36</td><td>&quot;M1979787155&quot;</td><td>0.0</td><td>0.0</td><td>0</td><td>0</td></tr><tr><td>1</td><td>&quot;PAYMENT&quot;</td><td>1864.28</td><td>&quot;C1666544295&quot;</td><td>21249.0</td><td>19384.72</td><td>&quot;M2044282225&quot;</td><td>0.0</td><td>0.0</td><td>0</td><td>0</td></tr><tr><td>1</td><td>&quot;TRANSFER&quot;</td><td>181.0</td><td>&quot;C1305486145&quot;</td><td>181.0</td><td>0.0</td><td>&quot;C553264065&quot;</td><td>0.0</td><td>0.0</td><td>1</td><td>0</td></tr><tr><td>1</td><td>&quot;CASH_OUT&quot;</td><td>181.0</td><td>&quot;C840083671&quot;</td><td>181.0</td><td>0.0</td><td>&quot;C38997010&quot;</td><td>21182.0</td><td>0.0</td><td>1</td><td>0</td></tr><tr><td>1</td><td>&quot;PAYMENT&quot;</td><td>11668.14</td><td>&quot;C2048537720&quot;</td><td>41554.0</td><td>29885.86</td><td>&quot;M1230701703&quot;</td><td>0.0</td><td>0.0</td><td>0</td><td>0</td></tr><tr><td>1</td><td>&quot;PAYMENT&quot;</td><td>7817.71</td><td>&quot;C90045638&quot;</td><td>53860.0</td><td>46042.29</td><td>&quot;M573487274&quot;</td><td>0.0</td><td>0.0</td><td>0</td><td>0</td></tr><tr><td>1</td><td>&quot;PAYMENT&quot;</td><td>7107.77</td><td>&quot;C154988899&quot;</td><td>183195.0</td><td>176087.23</td><td>&quot;M408069119&quot;</td><td>0.0</td><td>0.0</td><td>0</td><td>0</td></tr><tr><td>1</td><td>&quot;PAYMENT&quot;</td><td>7861.64</td><td>&quot;C1912850431&quot;</td><td>176087.23</td><td>168225.59</td><td>&quot;M633326333&quot;</td><td>0.0</td><td>0.0</td><td>0</td><td>0</td></tr><tr><td>1</td><td>&quot;PAYMENT&quot;</td><td>4024.36</td><td>&quot;C1265012928&quot;</td><td>2671.0</td><td>0.0</td><td>&quot;M1176932104&quot;</td><td>0.0</td><td>0.0</td><td>0</td><td>0</td></tr><tr><td>1</td><td>&quot;DEBIT&quot;</td><td>5337.77</td><td>&quot;C712410124&quot;</td><td>41720.0</td><td>36382.23</td><td>&quot;C195600860&quot;</td><td>41898.0</td><td>40348.79</td><td>0</td><td>0</td></tr></tbody></table></div>"
      ],
      "text/plain": [
       "shape: (10, 11)\n",
       "┌──────┬──────────┬──────────┬─────────────┬───┬─────────────┬─────────────┬─────────┬─────────────┐\n",
       "│ step ┆ type     ┆ amount   ┆ nameOrig    ┆ … ┆ oldbalanceD ┆ newbalanceD ┆ isFraud ┆ isFlaggedFr │\n",
       "│ ---  ┆ ---      ┆ ---      ┆ ---         ┆   ┆ est         ┆ est         ┆ ---     ┆ aud         │\n",
       "│ i64  ┆ str      ┆ f64      ┆ str         ┆   ┆ ---         ┆ ---         ┆ i64     ┆ ---         │\n",
       "│      ┆          ┆          ┆             ┆   ┆ f64         ┆ f64         ┆         ┆ i64         │\n",
       "╞══════╪══════════╪══════════╪═════════════╪═══╪═════════════╪═════════════╪═════════╪═════════════╡\n",
       "│ 1    ┆ PAYMENT  ┆ 9839.64  ┆ C1231006815 ┆ … ┆ 0.0         ┆ 0.0         ┆ 0       ┆ 0           │\n",
       "│ 1    ┆ PAYMENT  ┆ 1864.28  ┆ C1666544295 ┆ … ┆ 0.0         ┆ 0.0         ┆ 0       ┆ 0           │\n",
       "│ 1    ┆ TRANSFER ┆ 181.0    ┆ C1305486145 ┆ … ┆ 0.0         ┆ 0.0         ┆ 1       ┆ 0           │\n",
       "│ 1    ┆ CASH_OUT ┆ 181.0    ┆ C840083671  ┆ … ┆ 21182.0     ┆ 0.0         ┆ 1       ┆ 0           │\n",
       "│ 1    ┆ PAYMENT  ┆ 11668.14 ┆ C2048537720 ┆ … ┆ 0.0         ┆ 0.0         ┆ 0       ┆ 0           │\n",
       "│ 1    ┆ PAYMENT  ┆ 7817.71  ┆ C90045638   ┆ … ┆ 0.0         ┆ 0.0         ┆ 0       ┆ 0           │\n",
       "│ 1    ┆ PAYMENT  ┆ 7107.77  ┆ C154988899  ┆ … ┆ 0.0         ┆ 0.0         ┆ 0       ┆ 0           │\n",
       "│ 1    ┆ PAYMENT  ┆ 7861.64  ┆ C1912850431 ┆ … ┆ 0.0         ┆ 0.0         ┆ 0       ┆ 0           │\n",
       "│ 1    ┆ PAYMENT  ┆ 4024.36  ┆ C1265012928 ┆ … ┆ 0.0         ┆ 0.0         ┆ 0       ┆ 0           │\n",
       "│ 1    ┆ DEBIT    ┆ 5337.77  ┆ C712410124  ┆ … ┆ 41898.0     ┆ 40348.79    ┆ 0       ┆ 0           │\n",
       "└──────┴──────────┴──────────┴─────────────┴───┴─────────────┴─────────────┴─────────┴─────────────┘"
      ]
     },
     "execution_count": 38,
     "metadata": {},
     "output_type": "execute_result"
    }
   ],
   "source": [
    "lf = pl.scan_csv('./AIML Dataset.csv')\n",
    "\n",
    "lf.head(10).collect()"
   ]
  },
  {
   "cell_type": "code",
   "execution_count": 37,
   "id": "3de8d667",
   "metadata": {},
   "outputs": [
    {
     "data": {
      "text/html": [
       "<div><style>\n",
       ".dataframe > thead > tr,\n",
       ".dataframe > tbody > tr {\n",
       "  text-align: right;\n",
       "  white-space: pre-wrap;\n",
       "}\n",
       "</style>\n",
       "<small>shape: (5, 2)</small><table border=\"1\" class=\"dataframe\"><thead><tr><th>type</th><th>amount</th></tr><tr><td>str</td><td>f64</td></tr></thead><tbody><tr><td>&quot;TRANSFER&quot;</td><td>4.8529e11</td></tr><tr><td>&quot;DEBIT&quot;</td><td>2.2720e8</td></tr><tr><td>&quot;CASH_OUT&quot;</td><td>3.9441e11</td></tr><tr><td>&quot;CASH_IN&quot;</td><td>2.3637e11</td></tr><tr><td>&quot;PAYMENT&quot;</td><td>2.8093e10</td></tr></tbody></table></div>"
      ],
      "text/plain": [
       "shape: (5, 2)\n",
       "┌──────────┬───────────┐\n",
       "│ type     ┆ amount    │\n",
       "│ ---      ┆ ---       │\n",
       "│ str      ┆ f64       │\n",
       "╞══════════╪═══════════╡\n",
       "│ TRANSFER ┆ 4.8529e11 │\n",
       "│ DEBIT    ┆ 2.2720e8  │\n",
       "│ CASH_OUT ┆ 3.9441e11 │\n",
       "│ CASH_IN  ┆ 2.3637e11 │\n",
       "│ PAYMENT  ┆ 2.8093e10 │\n",
       "└──────────┴───────────┘"
      ]
     },
     "execution_count": 37,
     "metadata": {},
     "output_type": "execute_result"
    }
   ],
   "source": [
    "sums = lf.select('type', 'amount').group_by('type').sum().collect()\n",
    "sums"
   ]
  },
  {
   "cell_type": "code",
   "execution_count": 36,
   "id": "d6edecf8",
   "metadata": {},
   "outputs": [
    {
     "data": {
      "text/plain": [
       "158045603312.03265"
      ]
     },
     "execution_count": 36,
     "metadata": {},
     "output_type": "execute_result"
    }
   ],
   "source": [
    "# Extract CASH_IN amount\n",
    "cash_in = float(sums.filter(pl.col(\"type\") == \"CASH_IN\").select(\"amount\")[0, 0])\n",
    "\n",
    "# Extract CASH_OUT amount\n",
    "cash_out = float(sums.filter(pl.col(\"type\") == \"CASH_OUT\").select(\"amount\")[0, 0])\n",
    "\n",
    "# Print the values to verify\n",
    "cash_out - cash_in"
   ]
  },
  {
   "cell_type": "code",
   "execution_count": 35,
   "id": "0aa55698",
   "metadata": {},
   "outputs": [
    {
     "data": {
      "text/html": [
       "<div><style>\n",
       ".dataframe > thead > tr,\n",
       ".dataframe > tbody > tr {\n",
       "  text-align: right;\n",
       "  white-space: pre-wrap;\n",
       "}\n",
       "</style>\n",
       "<small>shape: (2, 2)</small><table border=\"1\" class=\"dataframe\"><thead><tr><th>isFraud</th><th>len</th></tr><tr><td>i64</td><td>u32</td></tr></thead><tbody><tr><td>0</td><td>6354407</td></tr><tr><td>1</td><td>8213</td></tr></tbody></table></div>"
      ],
      "text/plain": [
       "shape: (2, 2)\n",
       "┌─────────┬─────────┐\n",
       "│ isFraud ┆ len     │\n",
       "│ ---     ┆ ---     │\n",
       "│ i64     ┆ u32     │\n",
       "╞═════════╪═════════╡\n",
       "│ 0       ┆ 6354407 │\n",
       "│ 1       ┆ 8213    │\n",
       "└─────────┴─────────┘"
      ]
     },
     "execution_count": 35,
     "metadata": {},
     "output_type": "execute_result"
    }
   ],
   "source": [
    "lf.group_by('isFraud').len().collect()"
   ]
  }
 ],
 "metadata": {
  "kernelspec": {
   "display_name": ".venv",
   "language": "python",
   "name": "python3"
  },
  "language_info": {
   "codemirror_mode": {
    "name": "ipython",
    "version": 3
   },
   "file_extension": ".py",
   "mimetype": "text/x-python",
   "name": "python",
   "nbconvert_exporter": "python",
   "pygments_lexer": "ipython3",
   "version": "3.11.2"
  }
 },
 "nbformat": 4,
 "nbformat_minor": 5
}
