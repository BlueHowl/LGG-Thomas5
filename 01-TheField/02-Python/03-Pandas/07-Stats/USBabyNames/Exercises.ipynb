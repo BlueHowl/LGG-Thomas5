{
 "cells": [
  {
   "cell_type": "markdown",
   "metadata": {},
   "source": [
    "# US - Baby Names"
   ]
  },
  {
   "cell_type": "markdown",
   "metadata": {},
   "source": [
    "### Introduction:\n",
    "\n",
    "We are going to use a subset of [US Baby Names](https://www.kaggle.com/kaggle/us-baby-names) from Kaggle.  \n",
    "In the file it will be names from 2004 until 2014\n",
    "\n",
    "\n",
    "### Step 1. Import the necessary libraries"
   ]
  },
  {
   "cell_type": "code",
   "execution_count": 40,
   "metadata": {},
   "outputs": [],
   "source": [
    "import polars as pl"
   ]
  },
  {
   "cell_type": "markdown",
   "metadata": {},
   "source": [
    "### Step 2. Import the dataset from this [address](https://raw.githubusercontent.com/guipsamora/pandas_exercises/master/06_Stats/US_Baby_Names/US_Baby_Names_right.csv). "
   ]
  },
  {
   "cell_type": "markdown",
   "metadata": {},
   "source": [
    "### Step 3. Assign it to a variable called baby_names."
   ]
  },
  {
   "cell_type": "code",
   "execution_count": 52,
   "metadata": {},
   "outputs": [],
   "source": [
    "#use the scan_csv (LazyFrame) --> way more faster than classic read_csv (DataFrame)\n",
    "baby_names = pl.scan_csv('https://raw.githubusercontent.com/guipsamora/pandas_exercises/master/06_Stats/US_Baby_Names/US_Baby_Names_right.csv')\n",
    "\n",
    "# baby_names.collect()"
   ]
  },
  {
   "cell_type": "markdown",
   "metadata": {},
   "source": [
    "### Step 4. See the first 10 entries"
   ]
  },
  {
   "cell_type": "code",
   "execution_count": 42,
   "metadata": {},
   "outputs": [
    {
     "data": {
      "text/html": [
       "<div><style>\n",
       ".dataframe > thead > tr,\n",
       ".dataframe > tbody > tr {\n",
       "  text-align: right;\n",
       "  white-space: pre-wrap;\n",
       "}\n",
       "</style>\n",
       "<small>shape: (10, 7)</small><table border=\"1\" class=\"dataframe\"><thead><tr><th></th><th>Id</th><th>Name</th><th>Year</th><th>Gender</th><th>State</th><th>Count</th></tr><tr><td>i64</td><td>i64</td><td>str</td><td>i64</td><td>str</td><td>str</td><td>i64</td></tr></thead><tbody><tr><td>11349</td><td>11350</td><td>&quot;Emma&quot;</td><td>2004</td><td>&quot;F&quot;</td><td>&quot;AK&quot;</td><td>62</td></tr><tr><td>11350</td><td>11351</td><td>&quot;Madison&quot;</td><td>2004</td><td>&quot;F&quot;</td><td>&quot;AK&quot;</td><td>48</td></tr><tr><td>11351</td><td>11352</td><td>&quot;Hannah&quot;</td><td>2004</td><td>&quot;F&quot;</td><td>&quot;AK&quot;</td><td>46</td></tr><tr><td>11352</td><td>11353</td><td>&quot;Grace&quot;</td><td>2004</td><td>&quot;F&quot;</td><td>&quot;AK&quot;</td><td>44</td></tr><tr><td>11353</td><td>11354</td><td>&quot;Emily&quot;</td><td>2004</td><td>&quot;F&quot;</td><td>&quot;AK&quot;</td><td>41</td></tr><tr><td>11354</td><td>11355</td><td>&quot;Abigail&quot;</td><td>2004</td><td>&quot;F&quot;</td><td>&quot;AK&quot;</td><td>37</td></tr><tr><td>11355</td><td>11356</td><td>&quot;Olivia&quot;</td><td>2004</td><td>&quot;F&quot;</td><td>&quot;AK&quot;</td><td>33</td></tr><tr><td>11356</td><td>11357</td><td>&quot;Isabella&quot;</td><td>2004</td><td>&quot;F&quot;</td><td>&quot;AK&quot;</td><td>30</td></tr><tr><td>11357</td><td>11358</td><td>&quot;Alyssa&quot;</td><td>2004</td><td>&quot;F&quot;</td><td>&quot;AK&quot;</td><td>29</td></tr><tr><td>11358</td><td>11359</td><td>&quot;Sophia&quot;</td><td>2004</td><td>&quot;F&quot;</td><td>&quot;AK&quot;</td><td>28</td></tr></tbody></table></div>"
      ],
      "text/plain": [
       "shape: (10, 7)\n",
       "┌───────┬───────┬──────────┬──────┬────────┬───────┬───────┐\n",
       "│       ┆ Id    ┆ Name     ┆ Year ┆ Gender ┆ State ┆ Count │\n",
       "│ ---   ┆ ---   ┆ ---      ┆ ---  ┆ ---    ┆ ---   ┆ ---   │\n",
       "│ i64   ┆ i64   ┆ str      ┆ i64  ┆ str    ┆ str   ┆ i64   │\n",
       "╞═══════╪═══════╪══════════╪══════╪════════╪═══════╪═══════╡\n",
       "│ 11349 ┆ 11350 ┆ Emma     ┆ 2004 ┆ F      ┆ AK    ┆ 62    │\n",
       "│ 11350 ┆ 11351 ┆ Madison  ┆ 2004 ┆ F      ┆ AK    ┆ 48    │\n",
       "│ 11351 ┆ 11352 ┆ Hannah   ┆ 2004 ┆ F      ┆ AK    ┆ 46    │\n",
       "│ 11352 ┆ 11353 ┆ Grace    ┆ 2004 ┆ F      ┆ AK    ┆ 44    │\n",
       "│ 11353 ┆ 11354 ┆ Emily    ┆ 2004 ┆ F      ┆ AK    ┆ 41    │\n",
       "│ 11354 ┆ 11355 ┆ Abigail  ┆ 2004 ┆ F      ┆ AK    ┆ 37    │\n",
       "│ 11355 ┆ 11356 ┆ Olivia   ┆ 2004 ┆ F      ┆ AK    ┆ 33    │\n",
       "│ 11356 ┆ 11357 ┆ Isabella ┆ 2004 ┆ F      ┆ AK    ┆ 30    │\n",
       "│ 11357 ┆ 11358 ┆ Alyssa   ┆ 2004 ┆ F      ┆ AK    ┆ 29    │\n",
       "│ 11358 ┆ 11359 ┆ Sophia   ┆ 2004 ┆ F      ┆ AK    ┆ 28    │\n",
       "└───────┴───────┴──────────┴──────┴────────┴───────┴───────┘"
      ]
     },
     "execution_count": 42,
     "metadata": {},
     "output_type": "execute_result"
    }
   ],
   "source": [
    "baby_names.head(10).collect()"
   ]
  },
  {
   "cell_type": "markdown",
   "metadata": {},
   "source": [
    "### Step 5. Delete the column 'Unnamed: 0' and 'Id'"
   ]
  },
  {
   "cell_type": "code",
   "execution_count": 43,
   "metadata": {
    "vscode": {
     "languageId": "ruby"
    }
   },
   "outputs": [
    {
     "data": {
      "text/html": [
       "<div><style>\n",
       ".dataframe > thead > tr,\n",
       ".dataframe > tbody > tr {\n",
       "  text-align: right;\n",
       "  white-space: pre-wrap;\n",
       "}\n",
       "</style>\n",
       "<small>shape: (5, 5)</small><table border=\"1\" class=\"dataframe\"><thead><tr><th>Name</th><th>Year</th><th>Gender</th><th>State</th><th>Count</th></tr><tr><td>str</td><td>i64</td><td>str</td><td>str</td><td>i64</td></tr></thead><tbody><tr><td>&quot;Emma&quot;</td><td>2004</td><td>&quot;F&quot;</td><td>&quot;AK&quot;</td><td>62</td></tr><tr><td>&quot;Madison&quot;</td><td>2004</td><td>&quot;F&quot;</td><td>&quot;AK&quot;</td><td>48</td></tr><tr><td>&quot;Hannah&quot;</td><td>2004</td><td>&quot;F&quot;</td><td>&quot;AK&quot;</td><td>46</td></tr><tr><td>&quot;Grace&quot;</td><td>2004</td><td>&quot;F&quot;</td><td>&quot;AK&quot;</td><td>44</td></tr><tr><td>&quot;Emily&quot;</td><td>2004</td><td>&quot;F&quot;</td><td>&quot;AK&quot;</td><td>41</td></tr></tbody></table></div>"
      ],
      "text/plain": [
       "shape: (5, 5)\n",
       "┌─────────┬──────┬────────┬───────┬───────┐\n",
       "│ Name    ┆ Year ┆ Gender ┆ State ┆ Count │\n",
       "│ ---     ┆ ---  ┆ ---    ┆ ---   ┆ ---   │\n",
       "│ str     ┆ i64  ┆ str    ┆ str   ┆ i64   │\n",
       "╞═════════╪══════╪════════╪═══════╪═══════╡\n",
       "│ Emma    ┆ 2004 ┆ F      ┆ AK    ┆ 62    │\n",
       "│ Madison ┆ 2004 ┆ F      ┆ AK    ┆ 48    │\n",
       "│ Hannah  ┆ 2004 ┆ F      ┆ AK    ┆ 46    │\n",
       "│ Grace   ┆ 2004 ┆ F      ┆ AK    ┆ 44    │\n",
       "│ Emily   ┆ 2004 ┆ F      ┆ AK    ┆ 41    │\n",
       "└─────────┴──────┴────────┴───────┴───────┘"
      ]
     },
     "execution_count": 43,
     "metadata": {},
     "output_type": "execute_result"
    }
   ],
   "source": [
    "\n",
    "baby_names = baby_names.drop(['', 'Id'])\n",
    "\n",
    "# Collect to see the result\n",
    "baby_names.head(5).collect()"
   ]
  },
  {
   "cell_type": "markdown",
   "metadata": {},
   "source": [
    "### Step 6. Is there more male or female names in the dataset?"
   ]
  },
  {
   "cell_type": "code",
   "execution_count": 44,
   "metadata": {},
   "outputs": [
    {
     "data": {
      "text/html": [
       "<div><style>\n",
       ".dataframe > thead > tr,\n",
       ".dataframe > tbody > tr {\n",
       "  text-align: right;\n",
       "  white-space: pre-wrap;\n",
       "}\n",
       "</style>\n",
       "<small>shape: (2, 2)</small><table border=\"1\" class=\"dataframe\"><thead><tr><th>Gender</th><th>len</th></tr><tr><td>str</td><td>u32</td></tr></thead><tbody><tr><td>&quot;M&quot;</td><td>457549</td></tr><tr><td>&quot;F&quot;</td><td>558846</td></tr></tbody></table></div>"
      ],
      "text/plain": [
       "shape: (2, 2)\n",
       "┌────────┬────────┐\n",
       "│ Gender ┆ len    │\n",
       "│ ---    ┆ ---    │\n",
       "│ str    ┆ u32    │\n",
       "╞════════╪════════╡\n",
       "│ M      ┆ 457549 │\n",
       "│ F      ┆ 558846 │\n",
       "└────────┴────────┘"
      ]
     },
     "execution_count": 44,
     "metadata": {},
     "output_type": "execute_result"
    }
   ],
   "source": [
    "baby_names.group_by('Gender').len().collect()"
   ]
  },
  {
   "cell_type": "markdown",
   "metadata": {},
   "source": [
    "### Step 7. Group the dataset by name and assign to names"
   ]
  },
  {
   "cell_type": "code",
   "execution_count": 45,
   "metadata": {},
   "outputs": [
    {
     "data": {
      "text/html": [
       "<div><style>\n",
       ".dataframe > thead > tr,\n",
       ".dataframe > tbody > tr {\n",
       "  text-align: right;\n",
       "  white-space: pre-wrap;\n",
       "}\n",
       "</style>\n",
       "<small>shape: (17_632, 4)</small><table border=\"1\" class=\"dataframe\"><thead><tr><th>Name</th><th>Gender</th><th>State</th><th>Count</th></tr><tr><td>str</td><td>str</td><td>str</td><td>i64</td></tr></thead><tbody><tr><td>&quot;Jacob&quot;</td><td>null</td><td>null</td><td>242874</td></tr><tr><td>&quot;Emma&quot;</td><td>null</td><td>null</td><td>214852</td></tr><tr><td>&quot;Michael&quot;</td><td>null</td><td>null</td><td>214405</td></tr><tr><td>&quot;Ethan&quot;</td><td>null</td><td>null</td><td>209277</td></tr><tr><td>&quot;Isabella&quot;</td><td>null</td><td>null</td><td>204798</td></tr><tr><td>&hellip;</td><td>&hellip;</td><td>&hellip;</td><td>&hellip;</td></tr><tr><td>&quot;Jobani&quot;</td><td>null</td><td>null</td><td>5</td></tr><tr><td>&quot;Nadeem&quot;</td><td>null</td><td>null</td><td>5</td></tr><tr><td>&quot;Amanpreet&quot;</td><td>null</td><td>null</td><td>5</td></tr><tr><td>&quot;Shalim&quot;</td><td>null</td><td>null</td><td>5</td></tr><tr><td>&quot;Heydy&quot;</td><td>null</td><td>null</td><td>5</td></tr></tbody></table></div>"
      ],
      "text/plain": [
       "shape: (17_632, 4)\n",
       "┌───────────┬────────┬───────┬────────┐\n",
       "│ Name      ┆ Gender ┆ State ┆ Count  │\n",
       "│ ---       ┆ ---    ┆ ---   ┆ ---    │\n",
       "│ str       ┆ str    ┆ str   ┆ i64    │\n",
       "╞═══════════╪════════╪═══════╪════════╡\n",
       "│ Jacob     ┆ null   ┆ null  ┆ 242874 │\n",
       "│ Emma      ┆ null   ┆ null  ┆ 214852 │\n",
       "│ Michael   ┆ null   ┆ null  ┆ 214405 │\n",
       "│ Ethan     ┆ null   ┆ null  ┆ 209277 │\n",
       "│ Isabella  ┆ null   ┆ null  ┆ 204798 │\n",
       "│ …         ┆ …      ┆ …     ┆ …      │\n",
       "│ Jobani    ┆ null   ┆ null  ┆ 5      │\n",
       "│ Nadeem    ┆ null   ┆ null  ┆ 5      │\n",
       "│ Amanpreet ┆ null   ┆ null  ┆ 5      │\n",
       "│ Shalim    ┆ null   ┆ null  ┆ 5      │\n",
       "│ Heydy     ┆ null   ┆ null  ┆ 5      │\n",
       "└───────────┴────────┴───────┴────────┘"
      ]
     },
     "execution_count": 45,
     "metadata": {},
     "output_type": "execute_result"
    }
   ],
   "source": [
    "names = baby_names.drop('Year').group_by('Name').sum()\n",
    "\n",
    "sorted_names = names.sort(by='Count', descending=True)\n",
    "\n",
    "sorted_names.collect()"
   ]
  },
  {
   "cell_type": "markdown",
   "metadata": {},
   "source": [
    "### Step 8. How many different names exist in the dataset?"
   ]
  },
  {
   "cell_type": "code",
   "execution_count": 46,
   "metadata": {},
   "outputs": [
    {
     "data": {
      "text/plain": [
       "17632"
      ]
     },
     "execution_count": 46,
     "metadata": {},
     "output_type": "execute_result"
    }
   ],
   "source": [
    "len(names.collect())"
   ]
  },
  {
   "cell_type": "markdown",
   "metadata": {},
   "source": [
    "### Step 9. What is the name with most occurrences?"
   ]
  },
  {
   "cell_type": "code",
   "execution_count": 47,
   "metadata": {},
   "outputs": [
    {
     "data": {
      "text/plain": [
       "'Jacob'"
      ]
     },
     "execution_count": 47,
     "metadata": {},
     "output_type": "execute_result"
    }
   ],
   "source": [
    "sorted_names.select('Name').head(1).collect().item()"
   ]
  },
  {
   "cell_type": "markdown",
   "metadata": {},
   "source": [
    "### Step 10. How many different names have the least occurrences?"
   ]
  },
  {
   "cell_type": "code",
   "execution_count": 48,
   "metadata": {},
   "outputs": [
    {
     "data": {
      "text/plain": [
       "2578"
      ]
     },
     "execution_count": 48,
     "metadata": {},
     "output_type": "execute_result"
    }
   ],
   "source": [
    "# len(names[names.Count == names.Count.min()]) pandas solution\n",
    "\n",
    "# First get the min count value\n",
    "min_count = sorted_names.select(pl.min('Count')).collect().item()\n",
    "# Then filter names with this min count and count them\n",
    "counts_df = sorted_names.filter(pl.col('Count') == min_count).collect()\n",
    "len(counts_df)"
   ]
  },
  {
   "cell_type": "markdown",
   "metadata": {},
   "source": [
    "### Step 11. What is the median name occurrence?"
   ]
  },
  {
   "cell_type": "code",
   "execution_count": 49,
   "metadata": {},
   "outputs": [
    {
     "data": {
      "text/html": [
       "<div><style>\n",
       ".dataframe > thead > tr,\n",
       ".dataframe > tbody > tr {\n",
       "  text-align: right;\n",
       "  white-space: pre-wrap;\n",
       "}\n",
       "</style>\n",
       "<small>shape: (66, 4)</small><table border=\"1\" class=\"dataframe\"><thead><tr><th>Name</th><th>Gender</th><th>State</th><th>Count</th></tr><tr><td>str</td><td>str</td><td>str</td><td>i64</td></tr></thead><tbody><tr><td>&quot;Nassir&quot;</td><td>null</td><td>null</td><td>49</td></tr><tr><td>&quot;Rubin&quot;</td><td>null</td><td>null</td><td>49</td></tr><tr><td>&quot;Gurshaan&quot;</td><td>null</td><td>null</td><td>49</td></tr><tr><td>&quot;Nabeel&quot;</td><td>null</td><td>null</td><td>49</td></tr><tr><td>&quot;Kaedence&quot;</td><td>null</td><td>null</td><td>49</td></tr><tr><td>&hellip;</td><td>&hellip;</td><td>&hellip;</td><td>&hellip;</td></tr><tr><td>&quot;Kaelee&quot;</td><td>null</td><td>null</td><td>49</td></tr><tr><td>&quot;Jaiyana&quot;</td><td>null</td><td>null</td><td>49</td></tr><tr><td>&quot;Elizah&quot;</td><td>null</td><td>null</td><td>49</td></tr><tr><td>&quot;Kaio&quot;</td><td>null</td><td>null</td><td>49</td></tr><tr><td>&quot;Deante&quot;</td><td>null</td><td>null</td><td>49</td></tr></tbody></table></div>"
      ],
      "text/plain": [
       "shape: (66, 4)\n",
       "┌──────────┬────────┬───────┬───────┐\n",
       "│ Name     ┆ Gender ┆ State ┆ Count │\n",
       "│ ---      ┆ ---    ┆ ---   ┆ ---   │\n",
       "│ str      ┆ str    ┆ str   ┆ i64   │\n",
       "╞══════════╪════════╪═══════╪═══════╡\n",
       "│ Nassir   ┆ null   ┆ null  ┆ 49    │\n",
       "│ Rubin    ┆ null   ┆ null  ┆ 49    │\n",
       "│ Gurshaan ┆ null   ┆ null  ┆ 49    │\n",
       "│ Nabeel   ┆ null   ┆ null  ┆ 49    │\n",
       "│ Kaedence ┆ null   ┆ null  ┆ 49    │\n",
       "│ …        ┆ …      ┆ …     ┆ …     │\n",
       "│ Kaelee   ┆ null   ┆ null  ┆ 49    │\n",
       "│ Jaiyana  ┆ null   ┆ null  ┆ 49    │\n",
       "│ Elizah   ┆ null   ┆ null  ┆ 49    │\n",
       "│ Kaio     ┆ null   ┆ null  ┆ 49    │\n",
       "│ Deante   ┆ null   ┆ null  ┆ 49    │\n",
       "└──────────┴────────┴───────┴───────┘"
      ]
     },
     "execution_count": 49,
     "metadata": {},
     "output_type": "execute_result"
    }
   ],
   "source": [
    "# First get the min count value\n",
    "min_count = sorted_names.select(pl.median('Count')).collect().item()\n",
    "# Then filter names with this min count and count them\n",
    "counts_df = sorted_names.filter(pl.col('Count') == min_count).collect()\n",
    "counts_df"
   ]
  },
  {
   "cell_type": "markdown",
   "metadata": {},
   "source": [
    "### Step 12. What is the standard deviation of names?"
   ]
  },
  {
   "cell_type": "code",
   "execution_count": 50,
   "metadata": {},
   "outputs": [
    {
     "data": {
      "text/plain": [
       "11006.06946789057"
      ]
     },
     "execution_count": 50,
     "metadata": {},
     "output_type": "execute_result"
    }
   ],
   "source": [
    "sorted_names.select('Count').std().collect().item()"
   ]
  },
  {
   "cell_type": "markdown",
   "metadata": {},
   "source": [
    "### Step 13. Get a summary with the mean, min, max, std and quartiles."
   ]
  },
  {
   "cell_type": "code",
   "execution_count": 51,
   "metadata": {},
   "outputs": [
    {
     "data": {
      "text/html": [
       "<div><style>\n",
       ".dataframe > thead > tr,\n",
       ".dataframe > tbody > tr {\n",
       "  text-align: right;\n",
       "  white-space: pre-wrap;\n",
       "}\n",
       "</style>\n",
       "<small>shape: (9, 2)</small><table border=\"1\" class=\"dataframe\"><thead><tr><th>statistic</th><th>Count</th></tr><tr><td>str</td><td>f64</td></tr></thead><tbody><tr><td>&quot;count&quot;</td><td>17632.0</td></tr><tr><td>&quot;null_count&quot;</td><td>0.0</td></tr><tr><td>&quot;mean&quot;</td><td>2008.932169</td></tr><tr><td>&quot;std&quot;</td><td>11006.069468</td></tr><tr><td>&quot;min&quot;</td><td>5.0</td></tr><tr><td>&quot;25%&quot;</td><td>11.0</td></tr><tr><td>&quot;50%&quot;</td><td>49.0</td></tr><tr><td>&quot;75%&quot;</td><td>337.0</td></tr><tr><td>&quot;max&quot;</td><td>242874.0</td></tr></tbody></table></div>"
      ],
      "text/plain": [
       "shape: (9, 2)\n",
       "┌────────────┬──────────────┐\n",
       "│ statistic  ┆ Count        │\n",
       "│ ---        ┆ ---          │\n",
       "│ str        ┆ f64          │\n",
       "╞════════════╪══════════════╡\n",
       "│ count      ┆ 17632.0      │\n",
       "│ null_count ┆ 0.0          │\n",
       "│ mean       ┆ 2008.932169  │\n",
       "│ std        ┆ 11006.069468 │\n",
       "│ min        ┆ 5.0          │\n",
       "│ 25%        ┆ 11.0         │\n",
       "│ 50%        ┆ 49.0         │\n",
       "│ 75%        ┆ 337.0        │\n",
       "│ max        ┆ 242874.0     │\n",
       "└────────────┴──────────────┘"
      ]
     },
     "execution_count": 51,
     "metadata": {},
     "output_type": "execute_result"
    }
   ],
   "source": [
    "sorted_names.select('Count').describe()"
   ]
  }
 ],
 "metadata": {
  "anaconda-cloud": {},
  "kernelspec": {
   "display_name": ".venv",
   "language": "python",
   "name": "python3"
  },
  "language_info": {
   "codemirror_mode": {
    "name": "ipython",
    "version": 3
   },
   "file_extension": ".py",
   "mimetype": "text/x-python",
   "name": "python",
   "nbconvert_exporter": "python",
   "pygments_lexer": "ipython3",
   "version": "3.11.2"
  }
 },
 "nbformat": 4,
 "nbformat_minor": 1
}
